{
 "cells": [
  {
   "cell_type": "markdown",
   "id": "844f7c13",
   "metadata": {},
   "source": [
    "# ⚠️ Loan Default Prediction with XGBoost"
   ]
  },
  {
   "cell_type": "code",
   "execution_count": 10,
   "id": "d53f2041",
   "metadata": {},
   "outputs": [],
   "source": [
    "\n",
    "import pandas as pd\n",
    "import numpy as np\n",
    "import matplotlib.pyplot as plt\n",
    "from xgboost import XGBClassifier\n",
    "from sklearn.model_selection import train_test_split\n",
    "from sklearn.metrics import classification_report, confusion_matrix, roc_auc_score\n"
   ]
  },
  {
   "cell_type": "code",
   "execution_count": 11,
   "id": "b8fc95ec",
   "metadata": {},
   "outputs": [
    {
     "name": "stdout",
     "output_type": "stream",
     "text": [
      "Class Distribution:\n",
      "HighRiskLoan\n",
      "0.0    900\n",
      "1.0    100\n",
      "Name: count, dtype: int64\n",
      "scale_pos_weight: 9.0\n"
     ]
    }
   ],
   "source": [
    "\n",
    "# Load enhanced dataset\n",
    "df = pd.read_csv(\"/Users/devanshudixit/Desktop/projects/BankIQ/data/processed/enhanced_customers.csv\")\n",
    "\n",
    "# Drop rows with missing target\n",
    "df = df.dropna(subset=[\"HighRiskLoan\"])\n",
    "\n",
    "# Features and target\n",
    "features = [\n",
    "    \"LoanBurdenScore\", \"AvgLoanAmount\", \"AvgEMItoIncomeRatio\",\n",
    "    \"CreditScore\", \"Income\", \"Age\"\n",
    "]\n",
    "target = \"HighRiskLoan\"\n",
    "\n",
    "X = df[features]\n",
    "y = df[target]\n",
    "\n",
    "# Check class balance\n",
    "print(\"Class Distribution:\")\n",
    "print(y.value_counts())\n",
    "\n",
    "# Calculate scale_pos_weight\n",
    "scale_pos_weight = (y == 0).sum() / (y == 1).sum()\n",
    "print(\"scale_pos_weight:\", round(scale_pos_weight, 2))\n",
    "\n",
    "# Train-test split\n",
    "X_train, X_test, y_train, y_test = train_test_split(X, y, test_size=0.2, random_state=42)\n"
   ]
  },
  {
   "cell_type": "code",
   "execution_count": 12,
   "id": "060c9ec9",
   "metadata": {},
   "outputs": [
    {
     "name": "stderr",
     "output_type": "stream",
     "text": [
      "/Users/devanshudixit/anaconda3/lib/python3.11/site-packages/xgboost/training.py:183: UserWarning: [03:38:10] WARNING: /Users/runner/work/xgboost/xgboost/src/learner.cc:738: \n",
      "Parameters: { \"use_label_encoder\" } are not used.\n",
      "\n",
      "  bst.update(dtrain, iteration=i, fobj=obj)\n"
     ]
    }
   ],
   "source": [
    "\n",
    "# Train XGBoost with imbalance handling\n",
    "model = XGBClassifier(scale_pos_weight=scale_pos_weight, use_label_encoder=False, eval_metric=\"logloss\")\n",
    "model.fit(X_train, y_train)\n",
    "\n",
    "# Predict\n",
    "# y_pred = model.predict(X_test)\n",
    "y_prob = model.predict_proba(X_test)[:, 1]\n",
    "y_pred = (y_prob > 0.3).astype(int)\n",
    "\n"
   ]
  },
  {
   "cell_type": "code",
   "execution_count": 13,
   "id": "bc41f2c0",
   "metadata": {},
   "outputs": [
    {
     "name": "stdout",
     "output_type": "stream",
     "text": [
      "Confusion Matrix:\n",
      "[[169  12]\n",
      " [ 15   4]]\n",
      "\n",
      "Classification Report:\n",
      "              precision    recall  f1-score   support\n",
      "\n",
      "         0.0       0.92      0.93      0.93       181\n",
      "         1.0       0.25      0.21      0.23        19\n",
      "\n",
      "    accuracy                           0.86       200\n",
      "   macro avg       0.58      0.57      0.58       200\n",
      "weighted avg       0.85      0.86      0.86       200\n",
      "\n",
      "ROC AUC Score: 0.8711834835708054\n"
     ]
    }
   ],
   "source": [
    "\n",
    "print(\"Confusion Matrix:\")\n",
    "print(confusion_matrix(y_test, y_pred))\n",
    "\n",
    "print(\"\\nClassification Report:\")\n",
    "print(classification_report(y_test, y_pred))\n",
    "\n",
    "print(\"ROC AUC Score:\", roc_auc_score(y_test, y_prob))\n"
   ]
  }
 ],
 "metadata": {
  "kernelspec": {
   "display_name": "base",
   "language": "python",
   "name": "python3"
  },
  "language_info": {
   "codemirror_mode": {
    "name": "ipython",
    "version": 3
   },
   "file_extension": ".py",
   "mimetype": "text/x-python",
   "name": "python",
   "nbconvert_exporter": "python",
   "pygments_lexer": "ipython3",
   "version": "3.11.5"
  }
 },
 "nbformat": 4,
 "nbformat_minor": 5
}
